{
 "cells": [
  {
   "cell_type": "markdown",
   "metadata": {},
   "source": [
    "tradycyjne rekurencjne mnożenie macierzy "
   ]
  },
  {
   "cell_type": "code",
   "execution_count": 13,
   "metadata": {},
   "outputs": [
    {
     "ename": "ArgumentError",
     "evalue": "ArgumentError: invalid index: (4, 3) of type Tuple{Int64, Int64}",
     "output_type": "error",
     "traceback": [
      "ArgumentError: invalid index: (4, 3) of type Tuple{Int64, Int64}\n",
      "\n",
      "Stacktrace:\n",
      " [1] to_index(i::Tuple{Int64, Int64})\n",
      "   @ Base .\\indices.jl:300\n",
      " [2] to_index(A::Matrix{Int64}, i::Tuple{Int64, Int64})\n",
      "   @ Base .\\indices.jl:277\n",
      " [3] _to_indices1(A::Matrix{Int64}, inds::Tuple{Base.OneTo{Int64}}, I1::Tuple{Int64, Int64})\n",
      "   @ Base .\\indices.jl:359\n",
      " [4] to_indices\n",
      "   @ .\\indices.jl:354 [inlined]\n",
      " [5] to_indices\n",
      "   @ .\\indices.jl:345 [inlined]\n",
      " [6] getindex(A::Matrix{Int64}, I::Tuple{Int64, Int64})\n",
      "   @ Base .\\abstractarray.jl:1296\n",
      " [7] top-level scope\n",
      "   @ c:\\Users\\jezow\\OneDrive\\Dokumenty\\studia_tmp\\MatrixAlgorithm\\lab1\\MMul.ipynb:37"
     ]
    }
   ],
   "source": [
    "using LinearAlgebra\n",
    "# index_A, indexs_B - indeksy gdzie zaczyna nam się macierz\n",
    "function _M_mul_base(start_A, end_A, A, start_B, end_B, B, C)\n",
    "    m = end_A[1] - start_A[1] + 1\n",
    "    k = end_A[2] - end_A[2] + 1\n",
    "    n = end_B[2] - start_B[2] + 1\n",
    "    if k == 1\n",
    "        for i in start_A[1]:end_A[1]\n",
    "            for j in start_B[2]:end_B[2]\n",
    "                C[i,j] = \n",
    "    elseif m == 1\n",
    "\n",
    "    elseif n == 1\n",
    "\n",
    "    else\n",
    "\n",
    "    end\n",
    "\n",
    "end\n",
    "\n",
    "function M_mul_base(A, B)\n",
    "    s_a = size(A)\n",
    "    s_b = size(B)\n",
    "    if s_a[2] != s_b[1]\n",
    "        throw(\"wrong size of matrix\")\n",
    "    end\n",
    "    C = zeros(s_a[1], s_b[2])\n",
    "    _M_mul_base((0,0), s_a, A, (0,0), s_b, B, C)\n",
    "    return C\n",
    "end\n",
    "\n",
    "\n",
    "A = [\n",
    "    3 -1 2;\n",
    "    1 0 -2;\n",
    "    -2 1 3;\n",
    "    0 -1 -3\n",
    "]\n",
    "\n",
    "B = [\n",
    "    1 0;\n",
    "    2 -1;\n",
    "    -3 3\n",
    "]\n",
    "# M_mul_base(A, B)"
   ]
  }
 ],
 "metadata": {
  "kernelspec": {
   "display_name": "Julia 1.9.3",
   "language": "julia",
   "name": "julia-1.9"
  },
  "language_info": {
   "file_extension": ".jl",
   "mimetype": "application/julia",
   "name": "julia",
   "version": "1.9.3"
  }
 },
 "nbformat": 4,
 "nbformat_minor": 2
}
