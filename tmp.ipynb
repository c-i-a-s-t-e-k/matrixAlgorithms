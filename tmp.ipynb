{
 "cells": [
  {
   "cell_type": "code",
   "execution_count": 4,
   "metadata": {},
   "outputs": [
    {
     "ename": "MethodError",
     "evalue": "MethodError: no method matching zero(::Type{Matrix{Int64}})\n\nClosest candidates are:\n  zero(!Matched::Union{Type{P}, P}) where P<:Dates.Period\n   @ Dates C:\\Users\\jezow\\.julia\\juliaup\\julia-1.9.3+0.x64.w64.mingw32\\share\\julia\\stdlib\\v1.9\\Dates\\src\\periods.jl:51\n  zero(!Matched::SparseArrays.AbstractSparseArray)\n   @ SparseArrays C:\\Users\\jezow\\.julia\\juliaup\\julia-1.9.3+0.x64.w64.mingw32\\share\\julia\\stdlib\\v1.9\\SparseArrays\\src\\SparseArrays.jl:82\n  zero(!Matched::Diagonal)\n   @ LinearAlgebra C:\\Users\\jezow\\.julia\\juliaup\\julia-1.9.3+0.x64.w64.mingw32\\share\\julia\\stdlib\\v1.9\\LinearAlgebra\\src\\special.jl:374\n  ...\n",
     "output_type": "error",
     "traceback": [
      "MethodError: no method matching zero(::Type{Matrix{Int64}})\n",
      "\n",
      "Closest candidates are:\n",
      "  zero(!Matched::Union{Type{P}, P}) where P<:Dates.Period\n",
      "   @ Dates C:\\Users\\jezow\\.julia\\juliaup\\julia-1.9.3+0.x64.w64.mingw32\\share\\julia\\stdlib\\v1.9\\Dates\\src\\periods.jl:51\n",
      "  zero(!Matched::SparseArrays.AbstractSparseArray)\n",
      "   @ SparseArrays C:\\Users\\jezow\\.julia\\juliaup\\julia-1.9.3+0.x64.w64.mingw32\\share\\julia\\stdlib\\v1.9\\SparseArrays\\src\\SparseArrays.jl:82\n",
      "  zero(!Matched::Diagonal)\n",
      "   @ LinearAlgebra C:\\Users\\jezow\\.julia\\juliaup\\julia-1.9.3+0.x64.w64.mingw32\\share\\julia\\stdlib\\v1.9\\LinearAlgebra\\src\\special.jl:374\n",
      "  ...\n",
      "\n",
      "\n",
      "Stacktrace:\n",
      "  [1] getindex\n",
      "    @ C:\\Users\\jezow\\.julia\\juliaup\\julia-1.9.3+0.x64.w64.mingw32\\share\\julia\\stdlib\\v1.9\\LinearAlgebra\\src\\tridiag.jl:470 [inlined]\n",
      "  [2] isassigned(::SymTridiagonal{Matrix{Int64}, Vector{Matrix{Int64}}}, ::Int64, ::Int64)\n",
      "    @ Base .\\abstractarray.jl:606\n",
      "  [3] alignment(io::IOContext{IOBuffer}, X::AbstractVecOrMat, rows::Vector{Int64}, cols::Vector{Int64}, cols_if_complete::Int64, cols_otherwise::Int64, sep::Int64, ncols::Int64)\n",
      "    @ Base .\\arrayshow.jl:68\n",
      "  [4] _print_matrix(io::IOContext{IOBuffer}, X::AbstractVecOrMat, pre::String, sep::String, post::String, hdots::String, vdots::String, ddots::String, hmod::Int64, vmod::Int64, rowsA::UnitRange{Int64}, colsA::UnitRange{Int64})\n",
      "    @ Base .\\arrayshow.jl:207\n",
      "  [5] print_matrix(io::IOContext{IOBuffer}, X::SymTridiagonal{Matrix{Int64}, Vector{Matrix{Int64}}}, pre::String, sep::String, post::String, hdots::String, vdots::String, ddots::String, hmod::Int64, vmod::Int64)\n",
      "    @ Base .\\arrayshow.jl:171\n",
      "  [6] print_matrix\n",
      "    @ .\\arrayshow.jl:171 [inlined]\n",
      "  [7] print_array\n",
      "    @ .\\arrayshow.jl:358 [inlined]\n",
      "  [8] show(io::IOContext{IOBuffer}, #unused#::MIME{Symbol(\"text/plain\")}, X::SymTridiagonal{Matrix{Int64}, Vector{Matrix{Int64}}})\n",
      "    @ Base .\\arrayshow.jl:399\n",
      "  [9] limitstringmime(mime::MIME{Symbol(\"text/plain\")}, x::SymTridiagonal{Matrix{Int64}, Vector{Matrix{Int64}}})\n",
      "    @ VSCodeServer.IJuliaCore c:\\Users\\jezow\\.vscode\\extensions\\julialang.language-julia-1.54.2\\scripts\\packages\\IJuliaCore\\src\\inline.jl:22\n",
      " [10] display_mimestring\n",
      "    @ c:\\Users\\jezow\\.vscode\\extensions\\julialang.language-julia-1.54.2\\scripts\\packages\\IJuliaCore\\src\\display.jl:67 [inlined]\n",
      " [11] display_dict(x::SymTridiagonal{Matrix{Int64}, Vector{Matrix{Int64}}})\n",
      "    @ VSCodeServer.IJuliaCore c:\\Users\\jezow\\.vscode\\extensions\\julialang.language-julia-1.54.2\\scripts\\packages\\IJuliaCore\\src\\display.jl:98\n",
      " [12] display(#unused#::VSCodeServer.JuliaNotebookInlineDisplay, x::SymTridiagonal{Matrix{Int64}, Vector{Matrix{Int64}}})\n",
      "    @ VSCodeServer c:\\Users\\jezow\\.vscode\\extensions\\julialang.language-julia-1.54.2\\scripts\\packages\\VSCodeServer\\src\\notebookdisplay.jl:32\n",
      " [13] display(x::Any)\n",
      "    @ Base.Multimedia .\\multimedia.jl:340\n",
      " [14] #invokelatest#2\n",
      "    @ .\\essentials.jl:819 [inlined]\n",
      " [15] invokelatest\n",
      "    @ .\\essentials.jl:816 [inlined]\n",
      " [16] (::VSCodeServer.var\"#202#203\"{VSCodeServer.NotebookRunCellArguments, String})()\n",
      "    @ VSCodeServer c:\\Users\\jezow\\.vscode\\extensions\\julialang.language-julia-1.54.2\\scripts\\packages\\VSCodeServer\\src\\serve_notebook.jl:48\n",
      " [17] withpath(f::VSCodeServer.var\"#202#203\"{VSCodeServer.NotebookRunCellArguments, String}, path::String)\n",
      "    @ VSCodeServer c:\\Users\\jezow\\.vscode\\extensions\\julialang.language-julia-1.54.2\\scripts\\packages\\VSCodeServer\\src\\repl.jl:274\n",
      " [18] notebook_runcell_request(conn::VSCodeServer.JSONRPC.JSONRPCEndpoint{Base.PipeEndpoint, Base.PipeEndpoint}, params::VSCodeServer.NotebookRunCellArguments)\n",
      "    @ VSCodeServer c:\\Users\\jezow\\.vscode\\extensions\\julialang.language-julia-1.54.2\\scripts\\packages\\VSCodeServer\\src\\serve_notebook.jl:13\n",
      " [19] dispatch_msg(x::VSCodeServer.JSONRPC.JSONRPCEndpoint{Base.PipeEndpoint, Base.PipeEndpoint}, dispatcher::VSCodeServer.JSONRPC.MsgDispatcher, msg::Dict{String, Any})\n",
      "    @ VSCodeServer.JSONRPC c:\\Users\\jezow\\.vscode\\extensions\\julialang.language-julia-1.54.2\\scripts\\packages\\JSONRPC\\src\\typed.jl:67\n",
      " [20] serve_notebook(pipename::String, outputchannel_logger::Base.CoreLogging.SimpleLogger; crashreporting_pipename::String)\n",
      "    @ VSCodeServer c:\\Users\\jezow\\.vscode\\extensions\\julialang.language-julia-1.54.2\\scripts\\packages\\VSCodeServer\\src\\serve_notebook.jl:139\n",
      " [21] top-level scope\n",
      "    @ c:\\Users\\jezow\\.vscode\\extensions\\julialang.language-julia-1.54.2\\scripts\\notebook\\notebook.jl:32"
     ]
    }
   ],
   "source": [
    "using LinearAlgebra\n",
    "\n",
    "\n",
    "# kody w pliku txt, grupy 2-osobowe, rozwiązanie w formacie .pdf+.txt, przed ćwiczeeniami następnymi"
   ]
  }
 ],
 "metadata": {
  "kernelspec": {
   "display_name": "Julia 1.9.3",
   "language": "julia",
   "name": "julia-1.9"
  },
  "language_info": {
   "file_extension": ".jl",
   "mimetype": "application/julia",
   "name": "julia",
   "version": "1.9.3"
  }
 },
 "nbformat": 4,
 "nbformat_minor": 2
}
